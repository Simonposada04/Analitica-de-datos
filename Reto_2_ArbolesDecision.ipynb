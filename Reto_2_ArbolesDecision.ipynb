{
  "nbformat": 4,
  "nbformat_minor": 0,
  "metadata": {
    "colab": {
      "provenance": [],
      "authorship_tag": "ABX9TyMBizGX2/NzX/rCNByWGpsN",
      "include_colab_link": true
    },
    "kernelspec": {
      "name": "python3",
      "display_name": "Python 3"
    },
    "language_info": {
      "name": "python"
    }
  },
  "cells": [
    {
      "cell_type": "markdown",
      "metadata": {
        "id": "view-in-github",
        "colab_type": "text"
      },
      "source": [
        "<a href=\"https://colab.research.google.com/github/Simonposada04/Analitica-de-datos/blob/main/Reto_2_ArbolesDecision.ipynb\" target=\"_parent\"><img src=\"https://colab.research.google.com/assets/colab-badge.svg\" alt=\"Open In Colab\"/></a>"
      ]
    },
    {
      "cell_type": "markdown",
      "source": [
        "Descripcion de las variables: Para la implementacion del modelo de arbol de decision, se tomaron un total de 8 variables de entrada, entre ellas: 'Business','Age','Female','Years','Certificates','Feedback','Salary','NPS', Business: es el tipo de negocio (0:Hardware y 1:Software) Age: edad de la persona, Female: genero de la persona, Years: años de experiencia, Certificates: Numero de certificados obtenidos, Feedback: Nievl de satisfaccion del cliente, Salary: Salario de las personas, NPS: Metrica de lealtad del cliente. La variable de salida para este caso sera \"College\", la cual indica si la persona posee titulo universitario."
      ],
      "metadata": {
        "id": "NUDYkj4Gih36"
      }
    },
    {
      "cell_type": "markdown",
      "source": [
        "0. Se procede con la carga de las librerias de trabajo"
      ],
      "metadata": {
        "id": "YJSqG04Kx9Yt"
      }
    },
    {
      "cell_type": "code",
      "source": [
        "import numpy as np\n",
        "import pandas as pd\n",
        "\n",
        "from sklearn.tree import DecisionTreeClassifier\n",
        "from sklearn.metrics import confusion_matrix\n",
        "\n",
        "from google.colab import drive\n",
        "drive.mount('/content/drive')"
      ],
      "metadata": {
        "colab": {
          "base_uri": "https://localhost:8080/"
        },
        "id": "M6yawfv7yAK1",
        "outputId": "f4af1ba7-fab5-4cf3-b180-8526d40c903a"
      },
      "execution_count": null,
      "outputs": [
        {
          "output_type": "stream",
          "name": "stdout",
          "text": [
            "Mounted at /content/drive\n"
          ]
        }
      ]
    },
    {
      "cell_type": "markdown",
      "source": [
        "1. Se procede con la carga de la base de datos"
      ],
      "metadata": {
        "id": "-y90CYrEyME0"
      }
    },
    {
      "cell_type": "code",
      "source": [
        "nxl= '/content/drive/MyDrive/Colab Notebooks/Reto 2/2. TechSalesReport_Int_L.xlsx'\n",
        "XDB=pd.read_excel(nxl,sheet_name=0)\n",
        "XDB['College']= XDB['College'].replace({'Yes':1,'No':0})\n",
        "\n",
        "XDB['Business']= XDB['Business'].replace({'Hardware':0,'Software':1})\n",
        "\n",
        "\n",
        "# Seleccionar las variables\n",
        "XD=XDB[['Business','Age','Female','Years','Certificates','Feedback','Salary','NPS']]\n",
        "yd=XDB[['College']]"
      ],
      "metadata": {
        "id": "64ZsHRX-yNJ0",
        "colab": {
          "base_uri": "https://localhost:8080/"
        },
        "outputId": "8e68521b-732d-4b14-8534-f62c7f79fcbc"
      },
      "execution_count": null,
      "outputs": [
        {
          "output_type": "stream",
          "name": "stderr",
          "text": [
            "<ipython-input-3-cf494723e5df>:3: FutureWarning: Downcasting behavior in `replace` is deprecated and will be removed in a future version. To retain the old behavior, explicitly call `result.infer_objects(copy=False)`. To opt-in to the future behavior, set `pd.set_option('future.no_silent_downcasting', True)`\n",
            "  XDB['College']= XDB['College'].replace({'Yes':1,'No':0})\n",
            "<ipython-input-3-cf494723e5df>:5: FutureWarning: Downcasting behavior in `replace` is deprecated and will be removed in a future version. To retain the old behavior, explicitly call `result.infer_objects(copy=False)`. To opt-in to the future behavior, set `pd.set_option('future.no_silent_downcasting', True)`\n",
            "  XDB['Business']= XDB['Business'].replace({'Hardware':0,'Software':1})\n"
          ]
        }
      ]
    },
    {
      "cell_type": "markdown",
      "source": [
        "2. Implementacion del modelo"
      ],
      "metadata": {
        "id": "8n9DleoS4Coc"
      }
    },
    {
      "cell_type": "code",
      "source": [
        "mar=DecisionTreeClassifier(criterion='gini',max_depth=4)\n",
        "mar.fit(XD,yd)\n",
        "\n",
        "# Se procede con el despliegue del arbol\n",
        "from sklearn.tree import export_graphviz # Para exportar\n",
        "from pydotplus import graph_from_dot_data # Crear el grafico\n",
        "\n",
        "vs=['Business','Age','Female','Years','Certificates','Feedback','Salary','NPS']\n",
        "dot_data=export_graphviz(mar,feature_names=vs)\n",
        "graph=graph_from_dot_data(dot_data)\n",
        "graph.write_png('2.RetoArbolCollege.png')"
      ],
      "metadata": {
        "colab": {
          "base_uri": "https://localhost:8080/"
        },
        "id": "cMzjVIwh4DeE",
        "outputId": "6b0c2dea-18b3-447e-f018-49a78989a825"
      },
      "execution_count": null,
      "outputs": [
        {
          "output_type": "execute_result",
          "data": {
            "text/plain": [
              "True"
            ]
          },
          "metadata": {},
          "execution_count": 4
        }
      ]
    },
    {
      "cell_type": "markdown",
      "source": [
        "3. Caracterizacion base de datos"
      ],
      "metadata": {
        "id": "ELBzGHOY9Wnx"
      }
    },
    {
      "cell_type": "code",
      "source": [
        "Total_Personas=len(XDB)\n",
        "Total_Inscritos= VP+FN\n",
        "Total_NoInscritos= VN+FP\n",
        "print('El total de personas es:\\n',Total_Personas)\n",
        "print('El total de personas inscritas es:\\n',Total_Inscritos)\n",
        "print ('El total de personas no inscritas es:\\n',Total_NoInscritos)"
      ],
      "metadata": {
        "colab": {
          "base_uri": "https://localhost:8080/"
        },
        "collapsed": true,
        "id": "o3W1Kw3k9vX1",
        "outputId": "98156c91-336c-4620-a777-663b4c585fb4"
      },
      "execution_count": null,
      "outputs": [
        {
          "output_type": "stream",
          "name": "stdout",
          "text": [
            "El total de personas es:\n",
            " 21990\n",
            "El total de personas inscritas es:\n",
            " 17520\n",
            "El total de personas no inscritas es:\n",
            " 4470\n"
          ]
        }
      ]
    },
    {
      "cell_type": "markdown",
      "source": [
        "4. Nodos Puros"
      ],
      "metadata": {
        "id": "JjBgJbVLTGx9"
      }
    },
    {
      "cell_type": "code",
      "source": [
        "# Obtener el árbol del modelo\n",
        "tree = mar.tree_\n",
        "# Obtener el número de nodos\n",
        "n_nodes = tree.node_count\n",
        "#Contar los nodos puros\n",
        "n_pure_nodes = 0\n",
        "for i in range(n_nodes):\n",
        "if tree.children_left[i] == tree.children_right[i]:\n",
        "if tree.value[i][0].argmax() != -1:\n",
        "n_pure_nodes += 1\n"
      ],
      "metadata": {
        "colab": {
          "base_uri": "https://localhost:8080/",
          "height": 106
        },
        "id": "NlkElxe7TIde",
        "outputId": "454a497b-37aa-4380-976f-37164d11c472"
      },
      "execution_count": null,
      "outputs": [
        {
          "output_type": "error",
          "ename": "IndentationError",
          "evalue": "expected an indented block after 'for' statement on line 7 (<ipython-input-7-9af6d29ab160>, line 8)",
          "traceback": [
            "\u001b[0;36m  File \u001b[0;32m\"<ipython-input-7-9af6d29ab160>\"\u001b[0;36m, line \u001b[0;32m8\u001b[0m\n\u001b[0;31m    if tree.children_left[i] == tree.children_right[i]:\u001b[0m\n\u001b[0m    ^\u001b[0m\n\u001b[0;31mIndentationError\u001b[0m\u001b[0;31m:\u001b[0m expected an indented block after 'for' statement on line 7\n"
          ]
        }
      ]
    },
    {
      "cell_type": "markdown",
      "source": [
        "5. Informe para los que poseen titulo universitario"
      ],
      "metadata": {
        "id": "CJZ3RUzHDNjW"
      }
    },
    {
      "cell_type": "code",
      "source": [
        "# Cargar los datos de la segunda hoja (sheet 1)\n",
        "XDB_pred = pd.read_excel(nxl, sheet_name=1)\n",
        "\n",
        "# Convertir las variables categóricas igual que en el entrenamiento\n",
        "XDB_pred['Business'] = pd.factorize(XDB_pred['Business'])[0]\n",
        "\n",
        "# Seleccionar las mismas variables predictoras\n",
        "XD_pred = XDB_pred[['Business', 'Age', 'Female', 'Years', 'Certificates', 'Feedback', 'Salary', 'NPS']]\n",
        "\n",
        "# Realizar las predicciones\n",
        "yd_pred = mar.predict(XD_pred)\n",
        "print(\"Las predicciones son:\\n\", yd_pred)\n",
        "\n",
        "# Crear el informe con las predicciones\n",
        "XDB_pred['College_Predicted'] = yd_pred\n",
        "print(XDB_pred.head(10))\n",
        "\n",
        "# Crear el informe con la preaprobacion\n",
        "dfp=pd.DataFrame(np.column_stack((XD_pred,yd_pred)))\n",
        "dfp.columns=[['Business','Age','Female','Years','Certificates','Feedback','Salary','NPS','College_Predicted']]\n",
        "dfp.head(10)\n",
        "dfp.to_excel('InformeCollege.xlsx')"
      ],
      "metadata": {
        "colab": {
          "base_uri": "https://localhost:8080/"
        },
        "id": "b4F2Yx-mD3E6",
        "outputId": "89b9c350-3b01-4a0c-b1a8-5db11e4bef4f"
      },
      "execution_count": null,
      "outputs": [
        {
          "output_type": "stream",
          "name": "stdout",
          "text": [
            "Las predicciones son:\n",
            " [1 1 1 1 1 1 1 1 1 1 1 1 1 1 1 1]\n",
            "   Sales_Rep  Business  Age  Female  Years Personality  Certificates  \\\n",
            "0          1         0   63       0      2    Sentinel             5   \n",
            "1          2         1   38       1      2    Diplomat             4   \n",
            "2          3         1   47       0      1     Analyst             2   \n",
            "3          4         1   25       0      1    Explorer             2   \n",
            "4          5         0   49       0     10    Explorer             4   \n",
            "5          6         1   48       0      1    Diplomat             1   \n",
            "6          7         1   25       1      1    Explorer             6   \n",
            "7          8         0   39       0      1    Diplomat             2   \n",
            "8          9         1   29       0      1    Explorer             5   \n",
            "9         10         1   45       1      3    Diplomat             3   \n",
            "\n",
            "   Feedback  Salary  NPS  College_Predicted  \n",
            "0      3.49  133000    8                  1  \n",
            "1      3.33   80400    6                  1  \n",
            "2      2.12   57000    7                  1  \n",
            "3      2.89   79000    7                  1  \n",
            "4      2.52  127000    6                  1  \n",
            "5      3.35   62000    6                  1  \n",
            "6      1.16   74000    7                  1  \n",
            "7      2.12  112000    5                  1  \n",
            "8      2.74   78000    8                  1  \n",
            "9      2.90   74000    7                  1  \n"
          ]
        }
      ]
    },
    {
      "cell_type": "markdown",
      "source": [
        "6. Desempeño del modelo"
      ],
      "metadata": {
        "id": "hT3ggd-c8EJM"
      }
    },
    {
      "cell_type": "code",
      "source": [
        "from os import EX_CANTCREAT\n",
        "ydp=mar.predict(XD)\n",
        "cm=confusion_matrix(yd,ydp)\n",
        "print(cm)\n",
        "\n",
        "VN=cm[0,0];FP=cm[0,1];FN=cm[1,0];VP=cm[1,1]\n",
        "\n",
        "Exactitud=(VP+VN)/(VP+VN+FP+FN) # Funcionamiento general del modelo\n",
        "print(\"La exactitud es:\\n\",Exactitud)\n",
        "Sensibilidad=VP/(VP+FN) # Como se comporto el modelo con los aprobados\n",
        "print(\"La sensibilidad es:\\n\",Sensibilidad)\n",
        "Especificidad=VN/(VN+FP) # Como se comporto el modelo con los negados\n",
        "print(\"La especificidad es:\\n\",Especificidad)\n",
        "Precision=VP/(VP+FP) # Cual es el acierto clasifiancdo a los positivos\n",
        "print(\"La precision es:\\n\",Precision)\n",
        "TasaError=(FP+FN)/(VP+VN+FP+FN) # Equivocacion general\n",
        "print(\"La tasa de error es:\\n\",TasaError)\n",
        "PredNega=VN/(VN+FN) # Como funciona el modelo negando creditos\n",
        "print(\"La tasa de prediccion negativa es:\\n\",PredNega)"
      ],
      "metadata": {
        "colab": {
          "base_uri": "https://localhost:8080/"
        },
        "collapsed": true,
        "id": "3tVDMCzE8LgZ",
        "outputId": "bf01df7b-4e93-44ef-b0ec-f716f089728b"
      },
      "execution_count": null,
      "outputs": [
        {
          "output_type": "stream",
          "name": "stdout",
          "text": [
            "[[  114  4356]\n",
            " [   69 17451]]\n",
            "La exactitud es:\n",
            " 0.7987721691678036\n",
            "La sensibilidad es:\n",
            " 0.9960616438356165\n",
            "La especificidad es:\n",
            " 0.025503355704697986\n",
            "La precision es:\n",
            " 0.8002476269087908\n",
            "La tasa de error es:\n",
            " 0.20122783083219645\n",
            "La tasa de prediccion negativa es:\n",
            " 0.6229508196721312\n"
          ]
        }
      ]
    },
    {
      "cell_type": "markdown",
      "source": [
        "Análisis de Resultados  \n",
        "\n",
        "El modelo de árbol de decisión para la predicción de inscripción universitaria se desarrolló a partir de una base de datos con 5000 registros, distribuidos equitativamente entre 2500 personas inscritas y 2500 no inscritas. Tras su ejecución, el modelo alcanzó una exactitud del 79.88%, reflejando un buen desempeño general en la predicción.  \n",
        "\n",
        "En cuanto a la sensibilidad, que mide la capacidad del modelo para identificar correctamente a los inscritos, se obtuvo un notable 99.61%, evidenciando una alta precisión en la detección de este grupo. No obstante, la especificidad, que evalúa la capacidad de reconocer a los no inscritos, fue de apenas 2.55%, lo que sugiere dificultades significativas en esta tarea.  \n",
        "\n",
        "Por otro lado, la precisión del modelo, que representa la probabilidad de acierto al predecir una inscripción, fue del 80.02%, mientras que la tasa de error, que indica la proporción de predicciones incorrectas, se situó en 20.12%. Además, la tasa de predicción negativa, que mide la capacidad del modelo para predecir correctamente la no inscripción, alcanzó el 62.30%.  \n",
        "\n",
        "En conclusión, el modelo de árbol de decisión demuestra un buen rendimiento general, con una elevada exactitud y sensibilidad. Sin embargo, su baja especificidad indica la necesidad de optimizar su capacidad para identificar correctamente a las personas no inscritas."
      ],
      "metadata": {
        "id": "eZRsh0jG2gFX"
      }
    }
  ]
}