{
  "nbformat": 4,
  "nbformat_minor": 0,
  "metadata": {
    "colab": {
      "provenance": [],
      "authorship_tag": "ABX9TyNMlwlOwVAK5bZuTIv9kRg0",
      "include_colab_link": true
    },
    "kernelspec": {
      "name": "python3",
      "display_name": "Python 3"
    },
    "language_info": {
      "name": "python"
    }
  },
  "cells": [
    {
      "cell_type": "markdown",
      "metadata": {
        "id": "view-in-github",
        "colab_type": "text"
      },
      "source": [
        "<a href=\"https://colab.research.google.com/github/Simonposada04/Analitica-de-datos/blob/main/Reto_1_Simon_Posada.ipynb\" target=\"_parent\"><img src=\"https://colab.research.google.com/assets/colab-badge.svg\" alt=\"Open In Colab\"/></a>"
      ]
    },
    {
      "cell_type": "markdown",
      "source": [
        "**Reto 1 - Car Crash - Naive Bayes**\n",
        "0. Se procede con la carga de las librerias de trabajo"
      ],
      "metadata": {
        "id": "SFFgfSkxbfZm"
      }
    },
    {
      "cell_type": "code",
      "source": [
        "import numpy as np\n",
        "import pandas as pd"
      ],
      "metadata": {
        "id": "cGy_HNdzb8rw"
      },
      "execution_count": null,
      "outputs": []
    },
    {
      "cell_type": "markdown",
      "source": [
        "1. Se procede con la carga de la base de datos."
      ],
      "metadata": {
        "id": "-3KZQ3A3cKN3"
      }
    },
    {
      "cell_type": "code",
      "source": [
        "nxl='/content/1. BD2_CarCrash_Int.xlsx'\n",
        "XDB=pd.read_excel(nxl,sheet_name=0)\n",
        "XDB_SF = XDB[XDB['County'] == 'SAN FRANCISCO']\n",
        "\n",
        "XDB_SF=XDB_SF[['Weekday','ViolCat','ClearWeather','Month','CrashType','Highway','Daylight']]\n",
        "XDB_SF['CrashType'] = pd.factorize(XDB_SF['CrashType'])[0]\n",
        "\n",
        "XD=XDB_SF[['Weekday','ViolCat','ClearWeather','Month','CrashType','Daylight']]\n",
        "yd=XDB_SF['Highway']"
      ],
      "metadata": {
        "collapsed": true,
        "id": "jmm37ldDcNsR"
      },
      "execution_count": null,
      "outputs": []
    },
    {
      "cell_type": "markdown",
      "source": [
        "2. Implementamos el modelo"
      ],
      "metadata": {
        "id": "q1se1XxkfxoP"
      }
    },
    {
      "cell_type": "code",
      "source": [
        "from re import U\n",
        "from sklearn.naive_bayes import GaussianNB\n",
        "\n",
        "mnb=GaussianNB()\n",
        "mnb.fit(XD,yd)\n",
        "\n",
        "ct=mnb.class_count_\n",
        "print(\"El total de los datos es:\",len(XD))\n",
        "print(\"Porcentaje de los datos que hacen parte de una de las categorias de clasificacion\",ct/len(XD)*100)\n",
        "\n",
        "#Para obtener la informacion del modelo\n",
        "U=mnb.theta_\n",
        "sigma=np.sqrt(mnb.var_)\n",
        "cv=U/sigma\n",
        "Li=U-sigma; Ls=U+sigma\n",
        "ndc=mnb.class_count_\n",
        "pdnc=mnb.class_prior_ # % de los datos por categoria\n",
        "print(\"Titulos\")\n",
        "print(\"La media de los datos es\\n:\",U)\n",
        "print(\"Los limites superiores son\\n:\",U+sigma)\n",
        "print(\"Los limites inferiores son\\n:\",U-sigma)\n",
        "\n"
      ],
      "metadata": {
        "colab": {
          "base_uri": "https://localhost:8080/"
        },
        "id": "H22y7S-tfygO",
        "outputId": "bb883f79-0cf9-4693-86f0-cbea00afa336"
      },
      "execution_count": null,
      "outputs": [
        {
          "output_type": "stream",
          "name": "stdout",
          "text": [
            "El total de los datos es: 2081\n",
            "Porcentaje de los datos que hacen parte de una de las categorias de clasificacion [75.92503604 24.07496396]\n",
            "Titulos\n",
            "La media de los datos es\n",
            ": [[3.88417722 7.45696203 0.86265823 4.35189873 3.21772152 0.66265823]\n",
            " [3.9261477  4.1497006  0.79840319 6.69461078 2.27744511 0.62075848]]\n",
            "Los limites superiores son\n",
            ": [[ 5.83480263 10.978332    1.20686605  6.69526323  5.09144114  1.13546084]\n",
            " [ 5.94218494  6.31168962  1.19959585 10.13624719  3.33509959  1.10595679]]\n",
            "Los limites inferiores son\n",
            ": [[1.9335518  3.93559205 0.51845041 2.00853424 1.3440019  0.18985561]\n",
            " [1.91011047 1.98771158 0.39721054 3.25297437 1.21979063 0.13556017]]\n"
          ]
        }
      ]
    },
    {
      "cell_type": "markdown",
      "source": [
        "3. Se procede con la evaluacion (desempeño del modelo)"
      ],
      "metadata": {
        "id": "31G0B7cD0K-H"
      }
    },
    {
      "cell_type": "code",
      "source": [
        "ydp=mnb.predict(XD)\n",
        "from sklearn.metrics import confusion_matrix\n",
        "cm=confusion_matrix(yd,ydp)\n",
        "print(cm)\n",
        "\n",
        "#Exactitud\n",
        "VN=cm[0,0];FP=cm[0,1];FN=cm[1,0];VP=cm[1,1]\n",
        "Ex = (VN+VP)/(VN+VP+FP+FN)\n",
        "print(\"La exactitud es:\",Ex)\n",
        "\n",
        "#Tasa de error\n",
        "TE=(FP+FN)/(VN+VP+FP+FN)\n",
        "print(\"La tasa de error es:\",TE)\n",
        "\n",
        "#Sensibilidad\n",
        "SEN=VP/(VP+FN)\n",
        "print(\"La sensibilidad es:\",SEN)\n",
        "\n",
        "#Especificidad\n",
        "Esp=VN/(VN+FP)\n",
        "print(\"La especificidad es:\",Esp)\n",
        "\n",
        "#Presicion\n",
        "Pre=VP/(VP+FP)\n",
        "print(\"La presicion es:\",Pre)\n",
        "\n",
        "#Para evaluar a una persona con las siguientes caracteristicas: [5, 1, 1, 3, 4, 0]\n",
        "XS=[[5, 1, 1, 3, 4, 0]]\n",
        "mnb.predict(XS)"
      ],
      "metadata": {
        "colab": {
          "base_uri": "https://localhost:8080/"
        },
        "id": "SrFdFYwa0rt3",
        "outputId": "cfaab455-245e-4f15-eb5c-e8068db48a82"
      },
      "execution_count": null,
      "outputs": [
        {
          "output_type": "stream",
          "name": "stdout",
          "text": [
            "[[1365  215]\n",
            " [ 224  277]]\n",
            "La exactitud es: 0.7890437289764536\n",
            "La tasa de error es: 0.21095627102354636\n",
            "La sensibilidad es: 0.5528942115768463\n",
            "La especificidad es: 0.8639240506329114\n",
            "La presicion es: 0.5630081300813008\n"
          ]
        },
        {
          "output_type": "stream",
          "name": "stderr",
          "text": [
            "/usr/local/lib/python3.11/dist-packages/sklearn/utils/validation.py:2739: UserWarning: X does not have valid feature names, but GaussianNB was fitted with feature names\n",
            "  warnings.warn(\n"
          ]
        },
        {
          "output_type": "execute_result",
          "data": {
            "text/plain": [
              "array([0])"
            ]
          },
          "metadata": {},
          "execution_count": 68
        }
      ]
    }
  ]
}